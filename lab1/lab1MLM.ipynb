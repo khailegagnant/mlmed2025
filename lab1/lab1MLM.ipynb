{
  "cells": [
    {
      "cell_type": "code",
      "execution_count": 5,
      "metadata": {
        "colab": {
          "base_uri": "https://localhost:8080/"
        },
        "id": "anQuszVpSUI7",
        "outputId": "cf6f578d-f223-4616-d584-fe69972e4708"
      },
      "outputs": [
        {
          "output_type": "stream",
          "name": "stdout",
          "text": [
            "Mounted at /content/drive\n"
          ]
        }
      ],
      "source": [
        "from google.colab import drive\n",
        "drive.mount('/content/drive')"
      ]
    },
    {
      "cell_type": "code",
      "execution_count": 6,
      "metadata": {
        "id": "nVkuNVBISe4T"
      },
      "outputs": [],
      "source": [
        "import numpy as np\n",
        "import pandas as pd\n",
        "import matplotlib.pyplot as plt\n",
        "from imblearn.over_sampling import SMOTE\n",
        "import seaborn as siuu\n",
        "import os"
      ]
    },
    {
      "cell_type": "code",
      "execution_count": 60,
      "metadata": {
        "id": "rgG6DDClTbQQ"
      },
      "outputs": [],
      "source": [
        "# import zipfile\n",
        "# paths = [i for i in os.listdir('/home/long/longdata/chúa phù hộ người tên khải/ml med') if i.endswith('.zip')]\n",
        "# for path_to_zip_file in paths:\n",
        "# path_to_zip_file = '/content/drive/MyDrive/mitbih_train.csv.zip'\n",
        "# with zipfile.ZipFile(path_to_zip_file, 'r') as zip_ref:\n",
        "#     zip_ref.extractall(path_to_zip_file[:-8])"
      ]
    },
    {
      "cell_type": "code",
      "execution_count": 7,
      "metadata": {
        "id": "DDDcLhoqTdYj"
      },
      "outputs": [],
      "source": [
        "mitbih_test = pd.read_csv('/content/drive/MyDrive/mitbih_test/mitbih_test.csv')\n",
        "mitbih_train = pd.read_csv('/content/drive/MyDrive/mitbih_train/mitbih_train.csv')\n",
        "# ptb_ab = pd.read_csv('/content/drive/MyDrive/ptbdb_abnormal/ptbdb_abnormal.csv')\n",
        "# ptb_normal = pd.read_csv('/content/drive/MyDrive/ptbdb_normal/ptbdb_normal.csv')"
      ]
    },
    {
      "cell_type": "code",
      "execution_count": 8,
      "metadata": {
        "id": "d6yBG8AVTdWI"
      },
      "outputs": [],
      "source": [
        "mitbih_test.columns = [str(i) for i in range(1,188)]+ ['class']\n",
        "mitbih_train.columns = [str(i)  for i in range(1,188)]+ ['class']\n",
        "# ptb_ab.columns = [str(i)  for i in range(1,188)]+ ['class']\n",
        "# ptb_normal.columns = [str(i)  for i in range(1,188)]+ ['class']"
      ]
    },
    {
      "cell_type": "code",
      "source": [],
      "metadata": {
        "id": "7BxPYcrdDPjq"
      },
      "execution_count": null,
      "outputs": []
    },
    {
      "cell_type": "code",
      "execution_count": 9,
      "metadata": {
        "id": "kLe9Br7zTdTs"
      },
      "outputs": [],
      "source": [
        "# full_train = pd.concat([mitbih_train,ptb_ab,ptb_normal], axis = 0)\n",
        "full_train  = mitbih_train\n",
        "full_train = full_train.sort_values(by = 'class').reset_index(drop = True)\n",
        "full_train['class'] = full_train['class'].astype(int)"
      ]
    },
    {
      "cell_type": "code",
      "source": [
        "x_values = np.arange(187) * (1000 / 125)\n",
        "plt.plot(full_train.iloc[0,:-1])\n",
        "plt.xticks([])"
      ],
      "metadata": {
        "colab": {
          "base_uri": "https://localhost:8080/",
          "height": 424
        },
        "id": "GjZIyT0WK21a",
        "outputId": "7e12a5b9-ef3f-42bf-ca31-83a6d4764812"
      },
      "execution_count": 29,
      "outputs": [
        {
          "output_type": "execute_result",
          "data": {
            "text/plain": [
              "([], [])"
            ]
          },
          "metadata": {},
          "execution_count": 29
        },
        {
          "output_type": "display_data",
          "data": {
            "text/plain": [
              "<Figure size 640x480 with 1 Axes>"
            ],
            "image/png": "[encoded data removed]"
          },
          "metadata": {}
        }
      ]
    },
    {
      "cell_type": "code",
      "execution_count": 10,
      "metadata": {
        "id": "CUHFQ421TdRS",
        "colab": {
          "base_uri": "https://localhost:8080/",
          "height": 272
        },
        "outputId": "128c4441-8d4b-4f44-9152-21c0d49fb8f7"
      },
      "outputs": [
        {
          "output_type": "execute_result",
          "data": {
            "text/plain": [
              "class\n",
              "0    72470\n",
              "4     6431\n",
              "2     5788\n",
              "1     2223\n",
              "3      641\n",
              "Name: count, dtype: int64"
            ],
            "text/html": [
              "<div>\n",
              "<style scoped>\n",
              "    .dataframe tbody tr th:only-of-type {\n",
              "        vertical-align: middle;\n",
              "    }\n",
              "\n",
              "    .dataframe tbody tr th {\n",
              "        vertical-align: top;\n",
              "    }\n",
              "\n",
              "    .dataframe thead th {\n",
              "        text-align: right;\n",
              "    }\n",
              "</style>\n",
              "<table border=\"1\" class=\"dataframe\">\n",
              "  <thead>\n",
              "    <tr style=\"text-align: right;\">\n",
              "      <th></th>\n",
              "      <th>count</th>\n",
              "    </tr>\n",
              "    <tr>\n",
              "      <th>class</th>\n",
              "      <th></th>\n",
              "    </tr>\n",
              "  </thead>\n",
              "  <tbody>\n",
              "    <tr>\n",
              "      <th>0</th>\n",
              "      <td>72470</td>\n",
              "    </tr>\n",
              "    <tr>\n",
              "      <th>4</th>\n",
              "      <td>6431</td>\n",
              "    </tr>\n",
              "    <tr>\n",
              "      <th>2</th>\n",
              "      <td>5788</td>\n",
              "    </tr>\n",
              "    <tr>\n",
              "      <th>1</th>\n",
              "      <td>2223</td>\n",
              "    </tr>\n",
              "    <tr>\n",
              "      <th>3</th>\n",
              "      <td>641</td>\n",
              "    </tr>\n",
              "  </tbody>\n",
              "</table>\n",
              "</div><br><label><b>dtype:</b> int64</label>"
            ]
          },
          "metadata": {},
          "execution_count": 10
        }
      ],
      "source": [
        "full_train['class'].value_counts()"
      ]
    },
    {
      "cell_type": "code",
      "execution_count": 65,
      "metadata": {
        "id": "ABxBSBHITdOp",
        "colab": {
          "base_uri": "https://localhost:8080/",
          "height": 659
        },
        "outputId": "2b4b0f5a-61e7-428e-c6ef-89a52cb3ef5a"
      },
      "outputs": [
        {
          "output_type": "execute_result",
          "data": {
            "text/plain": [
              "Text(0.5, 1.0, 'Testing data distribution')"
            ]
          },
          "metadata": {},
          "execution_count": 65
        },
        {
          "output_type": "display_data",
          "data": {
            "text/plain": [
              "<Figure size 1500x700 with 2 Axes>"
            ],
            "image/png": "[encoded data removed]"
          },
          "metadata": {}
        }
      ],
      "source": [
        "plt.figure(figsize=(15,7))\n",
        "plt.subplot(1,2,1)\n",
        "siuu.countplot(data = full_train,x = 'class')\n",
        "plt.title('Training data distribution')\n",
        "plt.subplot(1,2,2)\n",
        "siuu.countplot(data = mitbih_test,x = 'class')\n",
        "plt.title('Testing data distribution')"
      ]
    },
    {
      "cell_type": "code",
      "execution_count": 11,
      "metadata": {
        "id": "HmURwCbzTdMM"
      },
      "outputs": [],
      "source": [
        "label0 = full_train.groupby('class').get_group(0).drop(['class'],axis = 1)\n",
        "label1 = full_train.groupby('class').get_group(1).drop(['class'],axis = 1)\n",
        "# label0_sample = label0.sample(6000)\n"
      ]
    },
    {
      "cell_type": "code",
      "execution_count": 13,
      "metadata": {
        "id": "U6s4s9MHTdJY",
        "colab": {
          "base_uri": "https://localhost:8080/"
        },
        "outputId": "9047d5d5-0ca1-4eea-ffe5-5c1b9d25fb09"
      },
      "outputs": [
        {
          "output_type": "stream",
          "name": "stdout",
          "text": [
            "For n_clusters = 10000 The average silhouette_score is : 0.15333286136546104\n"
          ]
        }
      ],
      "source": [
        "from for_imb_class import get_clustered_data\n",
        "# for i in range(5):\n",
        "label_0_cluster = get_clustered_data(label0, 10000)\n"
      ]
    },
    {
      "cell_type": "markdown",
      "metadata": {
        "id": "fsMFtBQmUN3P"
      },
      "source": [
        "For n_clusters = 15000 The average silhouette_score is : 0.1456467419508658\n",
        "For n_clusters = 10000 The average silhouette_score is : 0.07644702515924003"
      ]
    },
    {
      "cell_type": "code",
      "execution_count": null,
      "metadata": {
        "id": "h_32h8_sTdG0"
      },
      "outputs": [],
      "source": [
        "label_0_cluster.shape"
      ]
    },
    {
      "cell_type": "code",
      "execution_count": 14,
      "metadata": {
        "id": "Bk6hrBW6URLb"
      },
      "outputs": [],
      "source": [
        "label_0_cluster_c = pd.DataFrame(label_0_cluster)\n",
        "label_0_cluster_c['class'] = 0\n",
        "\n"
      ]
    },
    {
      "cell_type": "code",
      "execution_count": 15,
      "metadata": {
        "id": "tunBy4cUURIt"
      },
      "outputs": [],
      "source": [
        "label3va4va2 =  full_train[(full_train['class'] == 3) | (full_train['class'] == 4)| (full_train['class'] == 1)]\n",
        "label2  = full_train[(full_train['class'] == 2)]"
      ]
    },
    {
      "cell_type": "code",
      "execution_count": 17,
      "metadata": {
        "id": "9rfzRcUsURGF",
        "colab": {
          "base_uri": "https://localhost:8080/"
        },
        "outputId": "5bd4f8df-ce3c-4644-978a-a6870f815bce"
      },
      "outputs": [
        {
          "output_type": "stream",
          "name": "stderr",
          "text": [
            "<ipython-input-17-2a3d970d6a37>:6: PerformanceWarning: DataFrame is highly fragmented.  This is usually the result of calling `frame.insert` many times, which has poor performance.  Consider joining all columns at once using pd.concat(axis=1) instead. To get a de-fragmented frame, use `newframe = frame.copy()`\n",
            "  feature['class'] = target\n"
          ]
        }
      ],
      "source": [
        "from imblearn.over_sampling import SMOTE\n",
        "X = label3va4va2.drop(['class'],axis = 1)\n",
        "y = label3va4va2['class']\n",
        "feature, target = SMOTE(sampling_strategy={1:4000,3:2000},k_neighbors=2, random_state=4122004).fit_resample(X, y)\n",
        "# target = np.array(target).reshape(1,9646)\n",
        "feature['class'] = target"
      ]
    },
    {
      "cell_type": "code",
      "execution_count": 19,
      "metadata": {
        "id": "1EFfmhF8URDq",
        "colab": {
          "base_uri": "https://localhost:8080/",
          "height": 209
        },
        "outputId": "64401e0b-1451-422b-9eec-a4f676707d54"
      },
      "outputs": [
        {
          "output_type": "execute_result",
          "data": {
            "text/plain": [
              "class\n",
              "4    6431\n",
              "1    4000\n",
              "3    2000\n",
              "Name: count, dtype: int64"
            ],
            "text/html": [
              "<div>\n",
              "<style scoped>\n",
              "    .dataframe tbody tr th:only-of-type {\n",
              "        vertical-align: middle;\n",
              "    }\n",
              "\n",
              "    .dataframe tbody tr th {\n",
              "        vertical-align: top;\n",
              "    }\n",
              "\n",
              "    .dataframe thead th {\n",
              "        text-align: right;\n",
              "    }\n",
              "</style>\n",
              "<table border=\"1\" class=\"dataframe\">\n",
              "  <thead>\n",
              "    <tr style=\"text-align: right;\">\n",
              "      <th></th>\n",
              "      <th>count</th>\n",
              "    </tr>\n",
              "    <tr>\n",
              "      <th>class</th>\n",
              "      <th></th>\n",
              "    </tr>\n",
              "  </thead>\n",
              "  <tbody>\n",
              "    <tr>\n",
              "      <th>4</th>\n",
              "      <td>6431</td>\n",
              "    </tr>\n",
              "    <tr>\n",
              "      <th>1</th>\n",
              "      <td>4000</td>\n",
              "    </tr>\n",
              "    <tr>\n",
              "      <th>3</th>\n",
              "      <td>2000</td>\n",
              "    </tr>\n",
              "  </tbody>\n",
              "</table>\n",
              "</div><br><label><b>dtype:</b> int64</label>"
            ]
          },
          "metadata": {},
          "execution_count": 19
        }
      ],
      "source": [
        "feature['class'].value_counts()"
      ]
    },
    {
      "cell_type": "code",
      "execution_count": 20,
      "metadata": {
        "id": "ONG09aJyURBE"
      },
      "outputs": [],
      "source": [
        "train_processed = np.concatenate([label_0_cluster_c.values,label2.values,feature.values],axis = 0)"
      ]
    },
    {
      "cell_type": "code",
      "execution_count": 21,
      "metadata": {
        "id": "X6SAVrRYUQ-h"
      },
      "outputs": [],
      "source": [
        "train_final = pd.DataFrame(train_processed)\n",
        "train_final.columns = [i for i in range(1,188)] +['class']"
      ]
    },
    {
      "cell_type": "code",
      "execution_count": null,
      "metadata": {
        "id": "9zesVwLeUQ7q"
      },
      "outputs": [],
      "source": [
        "# train_final.to_csv('train_final_tile2.csv')"
      ]
    },
    {
      "cell_type": "code",
      "execution_count": 2,
      "metadata": {
        "id": "-zJ8TMoDUQ5N",
        "colab": {
          "base_uri": "https://localhost:8080/",
          "height": 148
        },
        "outputId": "c4d9e0c7-919f-4eb4-8c82-94a58fb0b8b4"
      },
      "outputs": [
        {
          "output_type": "error",
          "ename": "NameError",
          "evalue": "name 'pd' is not defined",
          "traceback": [
            "\u001b[0;31m---------------------------------------------------------------------------\u001b[0m",
            "\u001b[0;31mNameError\u001b[0m                                 Traceback (most recent call last)",
            "\u001b[0;32m<ipython-input-2-f2070a7af730>\u001b[0m in \u001b[0;36m<cell line: 0>\u001b[0;34m()\u001b[0m\n\u001b[0;32m----> 1\u001b[0;31m \u001b[0mtrain_final\u001b[0m \u001b[0;34m=\u001b[0m \u001b[0mpd\u001b[0m\u001b[0;34m.\u001b[0m\u001b[0mread_csv\u001b[0m\u001b[0;34m(\u001b[0m\u001b[0;34m'/content/drive/MyDrive/train_final_tile2.csv'\u001b[0m\u001b[0;34m,\u001b[0m\u001b[0mindex_col\u001b[0m\u001b[0;34m=\u001b[0m\u001b[0;36m0\u001b[0m\u001b[0;34m)\u001b[0m\u001b[0;34m\u001b[0m\u001b[0;34m\u001b[0m\u001b[0m\n\u001b[0m",
            "\u001b[0;31mNameError\u001b[0m: name 'pd' is not defined"
          ]
        }
      ],
      "source": [
        "train_final = pd.read_csv('/content/drive/MyDrive/train_final_tile2.csv',index_col=0)"
      ]
    },
    {
      "cell_type": "code",
      "source": [
        "X = train_final.drop(['class'],axis= 1)\n",
        "y = train_final['class']\n",
        "from xgboost import XGBClassifier\n",
        "from sklearn.model_selection import train_test_split\n",
        "X_train, X_val,y_train,y_val = train_test_split(X,y,test_size= 0.19 , stratify = y,random_state=4122004)\n",
        "scale_pos_weight = sum(y_train == 0) / sum(y_train == 1)\n",
        "model = XGBClassifier(scale_pos_weight=scale_pos_weight, eval_metric=\"auc\")\n",
        "model.fit(X_train, y_train)\n",
        "\n",
        "# Predict\n",
        "pred = model.predict(X_val)"
      ],
      "metadata": {
        "colab": {
          "base_uri": "https://localhost:8080/"
        },
        "id": "Km_c7G_nIEE4",
        "outputId": "e4e081de-7f15-469a-9c63-28e5ee4b1717"
      },
      "execution_count": 22,
      "outputs": [
        {
          "output_type": "stream",
          "name": "stderr",
          "text": [
            "/usr/local/lib/python3.11/dist-packages/xgboost/core.py:158: UserWarning: [15:58:50] WARNING: /workspace/src/learner.cc:740: \n",
            "Parameters: { \"scale_pos_weight\" } are not used.\n",
            "\n",
            "  warnings.warn(smsg, UserWarning)\n"
          ]
        }
      ]
    },
    {
      "cell_type": "code",
      "source": [
        "from sklearn.metrics import confusion_matrix, classification_report\n",
        "from sklearn.metrics import ConfusionMatrixDisplay\n",
        "tate1 = confusion_matrix(y_val, pred)\n",
        "disp = ConfusionMatrixDisplay(confusion_matrix=tate1)\n",
        "disp.plot(cmap=\"Blues\")\n",
        "plt.title(\"Confusion Matrix\")\n",
        "plt.show()\n",
        "from sklearn.metrics import confusion_matrix, classification_report\n",
        "target_names = [str(i) for i in range(5)]\n",
        "print(classification_report(y_val, pred,target_names=target_names))"
      ],
      "metadata": {
        "colab": {
          "base_uri": "https://localhost:8080/",
          "height": 693
        },
        "id": "M3zS9GFUIyIU",
        "outputId": "746e0585-c132-4809-9ee9-aafd9899bd45"
      },
      "execution_count": 24,
      "outputs": [
        {
          "output_type": "display_data",
          "data": {
            "text/plain": [
              "<Figure size 640x480 with 2 Axes>"
            ],
            "image/png": "[encoded data removed]"
          },
          "metadata": {}
        },
        {
          "output_type": "stream",
          "name": "stdout",
          "text": [
            "              precision    recall  f1-score   support\n",
            "\n",
            "           0       0.95      0.97      0.96      1900\n",
            "           1       0.96      0.93      0.95       760\n",
            "           2       0.97      0.94      0.95      1100\n",
            "           3       0.94      0.98      0.96       380\n",
            "           4       0.99      0.98      0.99      1222\n",
            "\n",
            "    accuracy                           0.96      5362\n",
            "   macro avg       0.96      0.96      0.96      5362\n",
            "weighted avg       0.96      0.96      0.96      5362\n",
            "\n"
          ]
        }
      ]
    }
  ],
  "metadata": {
    "colab": {
      "provenance": []
    },
    "kernelspec": {
      "display_name": "Python 3",
      "name": "python3"
    },
    "language_info": {
      "name": "python"
    }
  },
  "nbformat": 4,
  "nbformat_minor": 0
}